{
  "cells": [
    {
      "cell_type": "markdown",
      "metadata": {},
      "source": [
        "---\n",
        "engine: jupyter\n",
        "jupyter: lab-venv\n",
        "---\n",
        "\n",
        "# The LAB \n",
        "\n",
        "## Chapter 1. Vectors, scalars, and geometry \n",
        "\n",
        "### 1. Scalars, Vectors, and Coordinate Systems — LAB\n",
        "\n",
        "Let’s get our hands dirty! This lab is about playing with the *building blocks* of linear algebra: scalars and vectors. Think of a **scalar** as just a plain number, like `3` or `-1.5`. A **vector** is a small list of numbers, which you can picture as an arrow in space.\n",
        "\n",
        "We’ll use Python (with NumPy) to explore them. Don’t worry if this is your first time with NumPy — we’ll go slowly.\n",
        "\n",
        "#### Set Up Your Lab"
      ]
    },
    {
      "cell_type": "code",
      "metadata": {},
      "source": [
        "import numpy as np"
      ],
      "execution_count": null,
      "outputs": []
    },
    {
      "cell_type": "markdown",
      "metadata": {},
      "source": [
        "That’s it — we’re ready! NumPy is the main tool we’ll use for linear algebra.\n",
        "\n",
        "#### Step-by-Step Code Walkthrough\n",
        "\n",
        "**Scalars are just numbers.**"
      ]
    },
    {
      "cell_type": "code",
      "metadata": {},
      "source": [
        "a = 5       # a scalar\n",
        "b = -2.5    # another scalar\n",
        "\n",
        "print(a + b)   # add them\n",
        "print(a * b)   # multiply them"
      ],
      "execution_count": null,
      "outputs": []
    },
    {
      "cell_type": "markdown",
      "metadata": {},
      "source": [
        "**Vectors are lists of numbers.**"
      ]
    },
    {
      "cell_type": "code",
      "metadata": {},
      "source": [
        "v = np.array([2, 3])      # a vector in 2D\n",
        "w = np.array([1, -1, 4])  # a vector in 3D\n",
        "\n",
        "print(v)\n",
        "print(w)"
      ],
      "execution_count": null,
      "outputs": []
    },
    {
      "cell_type": "markdown",
      "metadata": {},
      "source": [
        "**Coordinates tell us where we are.**\n",
        "Think of `[2, 3]` as “go 2 steps in the x-direction, 3 steps in the y-direction.”\n",
        "\n",
        "We can even *draw* it:"
      ]
    },
    {
      "cell_type": "code",
      "metadata": {},
      "source": [
        "import matplotlib.pyplot as plt\n",
        "\n",
        "# plot vector v\n",
        "plt.quiver(0, 0, v[0], v[1], angles='xy', scale_units='xy', scale=1, color='r')\n",
        "plt.xlim(0, 4)\n",
        "plt.ylim(0, 4)\n",
        "plt.grid()\n",
        "plt.show()"
      ],
      "execution_count": null,
      "outputs": []
    },
    {
      "cell_type": "markdown",
      "metadata": {},
      "source": [
        "This makes a little arrow from the origin `(0,0)` to `(2,3)`.\n",
        "\n",
        "#### Try It Yourself\n",
        "\n",
        "1. Change the vector `v` to `[4, 1]`. Where does the arrow point now?\n",
        "2. Try making a 3D vector with 4 numbers, like `[1, 2, 3, 4]`. What happens?\n",
        "3. Replace `np.array([2,3])` with `np.array([0,0])`. What does the arrow look like?\n",
        "\n",
        "#### Common Beginner Pitfalls\n",
        "\n",
        "* Forgetting to use `np.array([...])`. Writing `[2, 3]` without NumPy just makes a Python list — not a vector.\n",
        "* Mixing dimensions: you can’t directly add a 2D vector and a 3D vector.\n",
        "\n",
        "#### The Takeaway\n",
        "\n",
        "* A **scalar** is a single number.\n",
        "* A **vector** is a list of numbers that represent a point or arrow in space.\n",
        "* Coordinate systems let us place vectors on a grid and visualize them.\n"
      ]
    }
  ],
  "metadata": {
    "kernelspec": {
      "name": "lab-venv",
      "language": "python",
      "display_name": "Python (lab-venv)",
      "path": "/Users/apple/Library/Jupyter/kernels/lab-venv"
    }
  },
  "nbformat": 4,
  "nbformat_minor": 4
}